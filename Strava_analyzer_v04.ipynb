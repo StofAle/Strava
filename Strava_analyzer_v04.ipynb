{
 "cells": [
  {
   "cell_type": "markdown",
   "metadata": {
    "colab": {
     "base_uri": "https://localhost:8080/",
     "height": 125
    },
    "colab_type": "code",
    "executionInfo": {
     "elapsed": 22616,
     "status": "ok",
     "timestamp": 1582224718485,
     "user": {
      "displayName": "Alexander Stoffers",
      "photoUrl": "",
      "userId": "15553820626396450216"
     },
     "user_tz": 300
    },
    "id": "dqNZAk_jdSx9",
    "outputId": "76a001eb-4e9e-41b3-c668-3ed62a87ac2d"
   },
   "source": [
    "# Strava Run Analyzer\n",
    "\n",
    "#### Motivation\n",
    "I use Strava (www.strava.com) to log my runs. \n",
    "I've recently survived two marathons. For both I've followed the same training plan. And both I've finished in roughly the same time. \n",
    "While Strava is a great tool to log and analyze each workout, I was curious to see to what extend the two training seasons leading up to the marathons differed. \n",
    "\n",
    "Running in Manhattan, I noticed that the velocity Stava calculates for some of my run intervals is sometimes extremely unrealistic. I suspect the reason for this to be GPS location issues. These data quality issues will be taken into account when re-evaluating the velocities for the runs.\n",
    "\n",
    "Note:\n",
    "Only recently (05/20/2020), Strava has restricted the 'training log' (dashboard that shows for each day of the past weeks the workout type and length) as well as the interval stats for each run or bike ride to premium users only. Non-premium users like me will simply no longer have access to these dashboards.\n",
    "\n",
    "#### Overview\n",
    "The script gives an example on how to download Strava data from their API and remove unwanted irregularities in the time/distance data from it.<br>\n",
    "As an example and illustration of the recorded data, I've analyzed and compared my running data for two marathon training seasons.\n",
    "\n",
    "#### Setup\n",
    "This script is organized as follows:\n",
    "\n",
    "#### section 0:\n",
    "A connection to the Strava API is established and the data downloaded.\n",
    "\n",
    "#### section 1: \n",
    "Data irregularities are removed and processed/cleaned data is stored to a local folder.\n",
    "\n",
    "#### section 2: \n",
    "(go straight to section 2 once sections 0 and 1 are executed and all data of interest has been processed) <br>\n",
    "A comparison of the running data for two marathon seasons is presented.\n"
   ]
  },
  {
   "cell_type": "markdown",
   "metadata": {},
   "source": [
    "### 0.1 import modules"
   ]
  },
  {
   "cell_type": "code",
   "execution_count": 4,
   "metadata": {},
   "outputs": [],
   "source": [
    "# !pip install stravalib"
   ]
  },
  {
   "cell_type": "code",
   "execution_count": 6,
   "metadata": {
    "colab": {},
    "colab_type": "code",
    "id": "AhoTa6E_RHGB"
   },
   "outputs": [],
   "source": [
    "# import modules and libraries\n",
    "\n",
    "import pandas as pd\n",
    "import numpy as np\n",
    "import copy as copy\n",
    "import json\n",
    "import time\n",
    "import os\n",
    "from stravalib.client import Client\n",
    "import getpass\n",
    "import datetime\n",
    "import matplotlib.pyplot as plt\n",
    "plt.style.use('seaborn-darkgrid')\n",
    "\n",
    "# own ToolBox \n",
    "import sys\n",
    "sys.path.append('./src/')\n",
    "from ToolBox import Strava_ToolBox as tb"
   ]
  },
  {
   "cell_type": "markdown",
   "metadata": {},
   "source": [
    "### 0.2 connect to Strava API"
   ]
  },
  {
   "cell_type": "code",
   "execution_count": 2,
   "metadata": {
    "colab": {
     "base_uri": "https://localhost:8080/",
     "height": 54
    },
    "colab_type": "code",
    "executionInfo": {
     "elapsed": 554,
     "status": "ok",
     "timestamp": 1582224726344,
     "user": {
      "displayName": "Alexander Stoffers",
      "photoUrl": "",
      "userId": "15553820626396450216"
     },
     "user_tz": 300
    },
    "id": "YskGBiTjNad4",
    "outputId": "3eec8ec7-6534-42ba-a9f0-0b0c39d94ea7"
   },
   "outputs": [
    {
     "name": "stdout",
     "output_type": "stream",
     "text": [
      "https://www.strava.com/oauth/authorize?client_id=43541&redirect_uri=http%3A%2F%2Flocalhost%2F&approval_prompt=auto&response_type=code&scope=read%2Cactivity%3Aread\n"
     ]
    }
   ],
   "source": [
    "# setup stravalib client authorization to get data\n",
    "client = Client()\n",
    "client_id = 43541  # personal client ID\n",
    "authorize_url = client.authorization_url(client_id=client_id, redirect_uri='http://localhost/')\n",
    "print(authorize_url)  # past url and copy redirected one; read out the code"
   ]
  },
  {
   "cell_type": "code",
   "execution_count": 3,
   "metadata": {},
   "outputs": [],
   "source": [
    "# read out from redirected url\n",
    "code = '6adbc76df7848249ef814b9145980f93f5680acd'  "
   ]
  },
  {
   "cell_type": "code",
   "execution_count": 4,
   "metadata": {},
   "outputs": [
    {
     "name": "stdout",
     "output_type": "stream",
     "text": [
      "input your client secret here: ········\n"
     ]
    }
   ],
   "source": [
    "# input personal client secret (visible on your api settings page https://www.strava.com/settings/api)\n",
    "client_secret = getpass.getpass(prompt=\"input your client secret here: \")"
   ]
  },
  {
   "cell_type": "code",
   "execution_count": 5,
   "metadata": {
    "colab": {},
    "colab_type": "code",
    "id": "J8xw3xPIOBxo"
   },
   "outputs": [],
   "source": [
    "# get access token\n",
    "access_token = client.exchange_code_for_token(client_id=client_id,\n",
    "                                              client_secret=client_secret,\n",
    "                                              code=code)"
   ]
  },
  {
   "cell_type": "markdown",
   "metadata": {},
   "source": [
    "### 1.0 download data through API and save to folder"
   ]
  },
  {
   "cell_type": "code",
   "execution_count": 6,
   "metadata": {},
   "outputs": [],
   "source": [
    "# set path where raw and clean data is/will be stored\n",
    "path = '/Users/alex/Documents/GitHub/Strava/data//'"
   ]
  },
  {
   "cell_type": "code",
   "execution_count": 142,
   "metadata": {},
   "outputs": [],
   "source": [
    "# use toolbox to load activities\n",
    "limit = 999 \n",
    "tb.get_activities(client, path=path + '//raw_data//', limit=limit)"
   ]
  },
  {
   "cell_type": "markdown",
   "metadata": {
    "colab": {},
    "colab_type": "code",
    "id": "c5YwqKsIRshl"
   },
   "source": [
    "### 1.1 load files from local directory"
   ]
  },
  {
   "cell_type": "code",
   "execution_count": 8,
   "metadata": {},
   "outputs": [
    {
     "name": "stdout",
     "output_type": "stream",
     "text": [
      "loading files from directory\n",
      "loading files from directory\n"
     ]
    }
   ],
   "source": [
    "# initialize toolbox object and load raw (and clean if available) activities data from folder into the object\n",
    "runs = tb()\n",
    "runs.load_files(path=path + 'raw_data//')\n",
    "\n",
    "try:\n",
    "    runs.load_files(path=path + 'clean_data//')\n",
    "except:\n",
    "    pass"
   ]
  },
  {
   "cell_type": "markdown",
   "metadata": {},
   "source": [
    "### 1.2 inspect raw data"
   ]
  },
  {
   "cell_type": "code",
   "execution_count": 9,
   "metadata": {},
   "outputs": [
    {
     "name": "stdout",
     "output_type": "stream",
     "text": [
      "stored raw data fields for activity:  dict_keys(['times', 'distances', 'infos']) \n",
      "\n",
      "number of time stamps recorded:  1922 \n",
      "\n",
      "stored infos  {'guid': None, 'external_id': '67BF1495-02BF-4631-BCC3-75FC9A7837D3', 'upload_id': '2857226745', 'athlete': {'firstname': None, 'lastname': None, 'profile_medium': None, 'profile': None, 'city': None, 'state': None, 'country': None, 'sex': None, 'friend': None, 'follower': None, 'premium': None, 'created_at': None, 'updated_at': None, 'approve_followers': None, 'badge_type_id': None, 'follower_count': None, 'friend_count': None, 'mutual_friend_count': None, 'athlete_type': None, 'date_preference': None, 'measurement_preference': None, 'email': None, 'clubs': None, 'bikes': None, 'shoes': None, 'super_user': None, 'email_language': None, 'weight': None, 'max_heartrate': None, 'username': None, 'description': None, 'instagram_username': None, 'offer_in_app_payment': None, 'global_privacy': None, 'receive_newsletter': None, 'email_kom_lost': None, 'dateofbirth': None, 'facebook_sharing_enabled': None, 'ftp': None, 'profile_original': None, 'premium_expiration_date': None, 'email_send_follower_notices': None, 'plan': None, 'agreed_to_terms': None, 'follower_request_count': None, 'email_facebook_twitter_friend_joins': None, 'receive_kudos_emails': None, 'receive_follower_feed_emails': None, 'receive_comment_emails': None, 'sample_race_distance': None, 'sample_race_time': None, 'membership': None, 'admin': None, 'owner': None, 'subscription_permissions': None}, 'name': 'Evening Run', 'distance': 8241.7, 'moving_time': '0:44:33', 'elapsed_time': '0:45:32', 'total_elevation_gain': 39.8, 'elev_high': 16.2, 'elev_low': -0.7, 'type': 'Run', 'start_date': '2019-09-09T22:16:30+00:00', 'start_date_local': '2019-09-09T18:16:30', 'timezone': 'America/New_York', 'utc_offset': -14400.0, 'start_latlng': '40.75,-73.94', 'end_latlng': '40.72,-73.99', 'location_city': None, 'location_state': None, 'location_country': 'Germany', 'start_latitude': 40.75, 'start_longitude': -73.94, 'achievement_count': 6, 'pr_count': 3, 'kudos_count': 0, 'comment_count': 0, 'athlete_count': 1, 'photo_count': 0, 'total_photo_count': 0, 'trainer': False, 'commute': False, 'manual': False, 'private': False, 'flagged': False, 'gear_id': None, 'gear': None, 'average_speed': 3.083, 'max_speed': 10.1, 'device_watts': None, 'has_kudoed': False, 'best_efforts': None, 'segment_efforts': None, 'splits_metric': None, 'splits_standard': None, 'average_watts': None, 'weighted_average_watts': None, 'max_watts': None, 'suffer_score': None, 'has_heartrate': False, 'average_heartrate': None, 'max_heartrate': None, 'average_cadence': None, 'kilojoules': None, 'average_temp': None, 'device_name': None, 'embed_token': None, 'calories': None, 'description': None, 'workout_type': '0', 'photos': None, 'instagram_primary_photo': None, 'partner_logo_url': None, 'partner_brand_tag': None, 'from_accepted_tag': False, 'segment_leaderboard_opt_out': None, 'highlighted_kudosers': None, 'laps': None} \n",
      "\n"
     ]
    }
   ],
   "source": [
    "# example: take a look at what raw data get sourced though the Strava API\n",
    "# activity_id = list(runs.raw_data.keys())[22]\n",
    "activity_id = 2694707314\n",
    "\n",
    "print('stored raw data fields for activity: ', runs.raw_data[activity_id].keys(), '\\n')\n",
    "print('number of time stamps recorded: ', len(runs.raw_data[activity_id]['times']), '\\n')\n",
    "print('stored infos ', runs.raw_data[activity_id]['infos'], '\\n')\n"
   ]
  },
  {
   "cell_type": "code",
   "execution_count": 140,
   "metadata": {},
   "outputs": [
    {
     "data": {
      "image/png": "[encoded data removed]",
      "text/plain": [
       "<Figure size 432x288 with 1 Axes>"
      ]
     },
     "metadata": {
      "needs_background": "light"
     },
     "output_type": "display_data"
    }
   ],
   "source": [
    "# the relevant raw data that's available through Strava's API are distances and times\n",
    "\n",
    "distances = runs.raw_data[activity_id]['distances']\n",
    "times = runs.raw_data[activity_id]['times']\n",
    "size = 3\n",
    "\n",
    "plt.scatter(times, distances, s=size)\n",
    "plt.xlabel('time [s]')\n",
    "plt.ylabel('distance [m]')\n",
    "plt.title('time vs distance for activity with ID = ' + str(activity_id))\n",
    "plt.show()\n"
   ]
  },
  {
   "cell_type": "code",
   "execution_count": 139,
   "metadata": {},
   "outputs": [
    {
     "data": {
      "image/png": "[encoded data removed]",
      "text/plain": [
       "<Figure size 432x288 with 1 Axes>"
      ]
     },
     "metadata": {
      "needs_background": "light"
     },
     "output_type": "display_data"
    }
   ],
   "source": [
    "# take a look at the instanteneous velocities, i.e. the ratio (distance(time_i+1) - distance(time_i))/(time_i+1 - time_i)\n",
    "inst_velocity_data = runs.get_instantaneous_velocities(activity_id=activity_id)\n",
    "\n",
    "inst_velo = inst_velocity_data[:,[1]]\n",
    "times = inst_velocity_data[:,[0]]\n",
    "\n",
    "size = 3\n",
    "plt.scatter(times, inst_velo, s=size)\n",
    "plt.xlabel('time [s]')\n",
    "plt.ylabel('velocity [m/s]')\n",
    "plt.title('instanteneous velocity data for activity with ID = ' + str(activity_id))\n",
    "plt.show()\n"
   ]
  },
  {
   "cell_type": "code",
   "execution_count": 145,
   "metadata": {},
   "outputs": [
    {
     "name": "stdout",
     "output_type": "stream",
     "text": [
      "\n"
     ]
    }
   ],
   "source": [
    "\"\"\"\n",
    "observations from above plot:\n",
    "1/ \n",
    "    - instantaneous velocities > 17 m/s ~ 38 mph observed\n",
    "    - these are larger than the record sprinting speed of 27.78 mph set by Usain Bolt in 2009 \n",
    "\n",
    "2/ \n",
    "    - velocities of zero are observed, corresponding to stopping events (traffic light etc...)\n",
    "    - extremely small values are also of no interest in the future analysis\n",
    "\n",
    "3/\n",
    "    - treat values in 1/ & 2/ are outliers and get clean data set with those removed\n",
    "    - the method 'process_raw_data' in the Strava_ToolBox does exactly that using a local outlier filter\n",
    "\"\"\"\n",
    "\n",
    "print('')"
   ]
  },
  {
   "cell_type": "markdown",
   "metadata": {},
   "source": [
    "### 1.3 activity stats w/ and w/o outlier filtering "
   ]
  },
  {
   "cell_type": "code",
   "execution_count": 13,
   "metadata": {},
   "outputs": [
    {
     "data": {
      "text/html": [
       "<div>\n",
       "<style scoped>\n",
       "    .dataframe tbody tr th:only-of-type {\n",
       "        vertical-align: middle;\n",
       "    }\n",
       "\n",
       "    .dataframe tbody tr th {\n",
       "        vertical-align: top;\n",
       "    }\n",
       "\n",
       "    .dataframe thead th {\n",
       "        text-align: right;\n",
       "    }\n",
       "</style>\n",
       "<table border=\"1\" class=\"dataframe\">\n",
       "  <thead>\n",
       "    <tr style=\"text-align: right;\">\n",
       "      <th></th>\n",
       "      <th>processed data</th>\n",
       "      <th>raw data</th>\n",
       "    </tr>\n",
       "  </thead>\n",
       "  <tbody>\n",
       "    <tr>\n",
       "      <th>avg_velocity</th>\n",
       "      <td>3.26609</td>\n",
       "      <td>3.26597</td>\n",
       "    </tr>\n",
       "    <tr>\n",
       "      <th>std_velocity</th>\n",
       "      <td>0.120624</td>\n",
       "      <td>0.119757</td>\n",
       "    </tr>\n",
       "    <tr>\n",
       "      <th>total_distance</th>\n",
       "      <td>8241.7</td>\n",
       "      <td>8241.7</td>\n",
       "    </tr>\n",
       "  </tbody>\n",
       "</table>\n",
       "</div>"
      ],
      "text/plain": [
       "               processed data  raw data\n",
       "avg_velocity          3.26609   3.26597\n",
       "std_velocity         0.120624  0.119757\n",
       "total_distance         8241.7    8241.7"
      ]
     },
     "execution_count": 13,
     "metadata": {},
     "output_type": "execute_result"
    }
   ],
   "source": [
    "# get stats (metrics) for activity w/ and w/o removing outliers \n",
    "\n",
    "# set outlier filtering flag to false, essentially using the raw data for getting the activity metrics\n",
    "runs.use_outlier_filtering = False\n",
    "\n",
    "# get stats\n",
    "raw_data_stats_dict = runs.get_activity_stats(activity_id=activity_id)\n",
    "raw_data_stats = pd.DataFrame.from_dict(data=raw_data_stats_dict, orient='index'\n",
    "                                        , columns=['raw data'])\n",
    "\n",
    "# enable outlier filtering\n",
    "runs.use_outlier_filtering = True\n",
    "\n",
    "# get stats for 'processed' data\n",
    "processed_data_stats_dict = runs.get_activity_stats(activity_id=activity_id)\n",
    "processed_data_stats = pd.DataFrame.from_dict(data=processed_data_stats_dict, orient='index'\n",
    "                                              , columns=['processed data'])\n",
    "\n",
    "processed_data_stats.join(raw_data_stats).drop(['total_duration', 'start_date_local'])"
   ]
  },
  {
   "cell_type": "code",
   "execution_count": null,
   "metadata": {},
   "outputs": [],
   "source": [
    "\"\"\"\n",
    "observations from above table:\n",
    "\n",
    "- average (avg_velocity) and standard deviation of the velocity (std_velocity) \n",
    "    of the run are impacted on a percentage level only\n",
    "    \n",
    "\"\"\""
   ]
  },
  {
   "cell_type": "code",
   "execution_count": 146,
   "metadata": {},
   "outputs": [],
   "source": [
    "# process all raw data: use outlier filter on all data and generate above stats\n",
    "# this will populate the dataframe runs.data and the dictionary runs.clean_data\n",
    "\n",
    "runs.process_raw_data()"
   ]
  },
  {
   "cell_type": "code",
   "execution_count": 15,
   "metadata": {},
   "outputs": [
    {
     "data": {
      "text/html": [
       "<div>\n",
       "<style scoped>\n",
       "    .dataframe tbody tr th:only-of-type {\n",
       "        vertical-align: middle;\n",
       "    }\n",
       "\n",
       "    .dataframe tbody tr th {\n",
       "        vertical-align: top;\n",
       "    }\n",
       "\n",
       "    .dataframe thead th {\n",
       "        text-align: right;\n",
       "    }\n",
       "</style>\n",
       "<table border=\"1\" class=\"dataframe\">\n",
       "  <thead>\n",
       "    <tr style=\"text-align: right;\">\n",
       "      <th></th>\n",
       "      <th>avg_velocity</th>\n",
       "      <th>std_velocity</th>\n",
       "      <th>total_duration</th>\n",
       "      <th>total_distance</th>\n",
       "      <th>start_date_local</th>\n",
       "    </tr>\n",
       "  </thead>\n",
       "  <tbody>\n",
       "    <tr>\n",
       "      <th>3260394297</th>\n",
       "      <td>2.902709</td>\n",
       "      <td>0.137598</td>\n",
       "      <td>6176.0</td>\n",
       "      <td>18949.0</td>\n",
       "      <td>20200405</td>\n",
       "    </tr>\n",
       "    <tr>\n",
       "      <th>2786171476</th>\n",
       "      <td>2.889561</td>\n",
       "      <td>0.093423</td>\n",
       "      <td>12333.0</td>\n",
       "      <td>32320.1</td>\n",
       "      <td>20191013</td>\n",
       "    </tr>\n",
       "    <tr>\n",
       "      <th>3002320412</th>\n",
       "      <td>2.596929</td>\n",
       "      <td>0.050060</td>\n",
       "      <td>10427.0</td>\n",
       "      <td>25617.7</td>\n",
       "      <td>20200111</td>\n",
       "    </tr>\n",
       "    <tr>\n",
       "      <th>2917510658</th>\n",
       "      <td>3.144266</td>\n",
       "      <td>0.038915</td>\n",
       "      <td>9187.0</td>\n",
       "      <td>27157.5</td>\n",
       "      <td>20191207</td>\n",
       "    </tr>\n",
       "    <tr>\n",
       "      <th>1105474714</th>\n",
       "      <td>3.569171</td>\n",
       "      <td>0.146498</td>\n",
       "      <td>1826.0</td>\n",
       "      <td>5927.0</td>\n",
       "      <td>20170728</td>\n",
       "    </tr>\n",
       "  </tbody>\n",
       "</table>\n",
       "</div>"
      ],
      "text/plain": [
       "            avg_velocity  std_velocity  total_duration  total_distance  \\\n",
       "3260394297      2.902709      0.137598          6176.0         18949.0   \n",
       "2786171476      2.889561      0.093423         12333.0         32320.1   \n",
       "3002320412      2.596929      0.050060         10427.0         25617.7   \n",
       "2917510658      3.144266      0.038915          9187.0         27157.5   \n",
       "1105474714      3.569171      0.146498          1826.0          5927.0   \n",
       "\n",
       "           start_date_local  \n",
       "3260394297         20200405  \n",
       "2786171476         20191013  \n",
       "3002320412         20200111  \n",
       "2917510658         20191207  \n",
       "1105474714         20170728  "
      ]
     },
     "execution_count": 15,
     "metadata": {},
     "output_type": "execute_result"
    }
   ],
   "source": [
    "# check that runs.data is populated\n",
    "runs.data.head()"
   ]
  },
  {
   "cell_type": "code",
   "execution_count": 147,
   "metadata": {},
   "outputs": [],
   "source": [
    "# check that runs.data is populated\n",
    "runs.clean_data[list(runs.clean_data.keys())[0]]"
   ]
  },
  {
   "cell_type": "code",
   "execution_count": 18,
   "metadata": {},
   "outputs": [],
   "source": [
    "# save clean data to output folder\n",
    "runs.save_clean_data(path=path + '//clean_data//')"
   ]
  },
  {
   "cell_type": "code",
   "execution_count": 23,
   "metadata": {},
   "outputs": [],
   "source": [
    "# save pandas dataframe to csv\n",
    "data = runs.data\n",
    "\n",
    "filename = 'data.csv'\n",
    "data.to_csv(path + filename)\n"
   ]
  },
  {
   "cell_type": "markdown",
   "metadata": {},
   "source": [
    "### 2.0 visualize runs\n",
    "\n",
    "Plot combinations of average velocity, standard deviation in velocity and total duration for all runs"
   ]
  },
  {
   "cell_type": "code",
   "execution_count": 36,
   "metadata": {},
   "outputs": [],
   "source": [
    "# load processed data that has been generated in a previous step\n",
    "filename = 'data.csv'\n",
    "data = pd.read_csv(path + filename, index_col='Unnamed: 0')"
   ]
  },
  {
   "cell_type": "code",
   "execution_count": 40,
   "metadata": {},
   "outputs": [],
   "source": [
    "# read out data from data frame\n",
    "total_distance = data['total_distance'].values\n",
    "avg_velocity = data['avg_velocity'].values\n",
    "std_velocity = data['std_velocity'].values"
   ]
  },
  {
   "cell_type": "code",
   "execution_count": 138,
   "metadata": {},
   "outputs": [
    {
     "data": {
      "image/png": "[encoded data removed]",
      "text/plain": [
       "<Figure size 432x288 with 1 Axes>"
      ]
     },
     "metadata": {
      "needs_background": "light"
     },
     "output_type": "display_data"
    }
   ],
   "source": [
    "size = 3\n",
    "plt.scatter(total_distance, avg_velocity, s=size)\n",
    "plt.xlabel('distance [m]')\n",
    "plt.ylabel('average velocity [m/s]')\n",
    "plt.show()\n",
    "\n",
    "# observation:  avergage velocity varies by up to 50% for short runs (slow run vs tempo run) \n",
    "# and less so for longer runs"
   ]
  },
  {
   "cell_type": "code",
   "execution_count": 137,
   "metadata": {},
   "outputs": [
    {
     "data": {
      "image/png": "[encoded data removed]",
      "text/plain": [
       "<Figure size 432x288 with 1 Axes>"
      ]
     },
     "metadata": {
      "needs_background": "light"
     },
     "output_type": "display_data"
    }
   ],
   "source": [
    "size = 3\n",
    "plt.scatter(total_distance, std_velocity, s=size)\n",
    "plt.xlabel('distance [m]')\n",
    "plt.ylabel('standard deviation in velocity [m^2/s^2]')\n",
    "plt.show()\n",
    "\n",
    "# longer runs at a more consistent pace; shorter runs include 'sprint runs'"
   ]
  },
  {
   "cell_type": "code",
   "execution_count": 136,
   "metadata": {},
   "outputs": [
    {
     "data": {
      "image/png": "[encoded data removed]",
      "text/plain": [
       "<Figure size 432x288 with 1 Axes>"
      ]
     },
     "metadata": {
      "needs_background": "light"
     },
     "output_type": "display_data"
    }
   ],
   "source": [
    "size = 3\n",
    "plt.scatter(std_velocity, avg_velocity, s=size)\n",
    "plt.xlabel('standard deviation in velocity [m^2/s^2]')\n",
    "plt.ylabel('average velocity [m/s]')\n",
    "plt.show()"
   ]
  },
  {
   "cell_type": "markdown",
   "metadata": {},
   "source": [
    "### 2.1 compare marathon training seasons"
   ]
  },
  {
   "cell_type": "code",
   "execution_count": null,
   "metadata": {},
   "outputs": [],
   "source": [
    "# take the four month leading up to the marathon as the relevant time period\n",
    "# for marathon 1, this will be the four month leading up to Nov 03 2019\n",
    "# for marathon 2, this will be the four month leading up to Mar 08 2020"
   ]
  },
  {
   "cell_type": "code",
   "execution_count": 68,
   "metadata": {},
   "outputs": [],
   "source": [
    "# define start and end date for training season 1\n",
    "start_1 = 20190703\n",
    "end_1 = 20191103\n",
    "# get data for season 1\n",
    "data_1 = data[(data['start_date_local'] > start_1) & (data['start_date_local'] < end_1)]\n",
    "\n",
    "# define start and end date for training season 2\n",
    "start_2 = 20191108\n",
    "end_2 = 20200308\n",
    "# get data for season 2\n",
    "data_2 = data[(data['start_date_local'] > start_2) & (data['start_date_local'] < end_2)]"
   ]
  },
  {
   "cell_type": "code",
   "execution_count": 74,
   "metadata": {},
   "outputs": [
    {
     "name": "stdout",
     "output_type": "stream",
     "text": [
      "number of runs for season 1:  53\n",
      "number of runs for season 2:  50\n",
      "number of runs for season 1:  643511.3\n",
      "number of runs for season 2:  630040.0\n"
     ]
    }
   ],
   "source": [
    "# compare number of runs and aggegated distance in each season\n",
    "\n",
    "print('number of runs for season 1: ', len(data_1))\n",
    "print('number of runs for season 2: ', len(data_2))\n",
    "# number of runs are comparable\n",
    "\n",
    "print('number of runs for season 1: ', sum(data_1['total_distance'].values))\n",
    "print('number of runs for season 2: ', sum(data_2['total_distance'].values))\n",
    "\n",
    "# total distance run in each season also comparable"
   ]
  },
  {
   "cell_type": "code",
   "execution_count": 135,
   "metadata": {},
   "outputs": [
    {
     "data": {
      "image/png": "[encoded data removed]",
      "text/plain": [
       "<Figure size 432x288 with 1 Axes>"
      ]
     },
     "metadata": {
      "needs_background": "light"
     },
     "output_type": "display_data"
    }
   ],
   "source": [
    "# plot histograms of total distances\n",
    "\n",
    "bins = 15\n",
    "data_1['total_distance'].hist(bins=bins, color='c', alpha=.8, label='seaons 1')\n",
    "data_2['total_distance'].hist(bins=bins, color='r', alpha=.5, label='season 2')\n",
    "plt.legend(prop={'size': 12})\n",
    "plt.show()\n",
    "\n",
    "# a lot more runs of the same distance in season 2 compared to season 1"
   ]
  },
  {
   "cell_type": "code",
   "execution_count": 133,
   "metadata": {},
   "outputs": [
    {
     "data": {
      "image/png": "[encoded data removed]",
      "text/plain": [
       "<Figure size 432x288 with 1 Axes>"
      ]
     },
     "metadata": {
      "needs_background": "light"
     },
     "output_type": "display_data"
    }
   ],
   "source": [
    "# plot histograms of average velocities \n",
    "bins = 12\n",
    "data_1['avg_velocity'].hist(bins=bins, color='c', alpha=.8, label='seaons 1')\n",
    "data_2['avg_velocity'].hist(bins=bins, color='r', alpha=.5, label='season 2')\n",
    "plt.legend(prop={'size': 12})\n",
    "avg_velo_1 = round(np.average(data_1['avg_velocity'].values), 2)\n",
    "avg_velo_2 = round(np.average(data_2['avg_velocity'].values), 2)\n",
    "plt.title('average velocities \\n season 1: {} [m/s] \\n season 2: {} [m/s]'.format(avg_velo_1, avg_velo_2))\n",
    "plt.show()\n",
    "# season 2 has more slow runs and tempo runs, while season 1 has more 'mid-tempo' runs"
   ]
  },
  {
   "cell_type": "code",
   "execution_count": 134,
   "metadata": {},
   "outputs": [
    {
     "data": {
      "image/png": "[encoded data removed]",
      "text/plain": [
       "<Figure size 432x288 with 1 Axes>"
      ]
     },
     "metadata": {
      "needs_background": "light"
     },
     "output_type": "display_data"
    }
   ],
   "source": [
    "# plot histograms of standard deviation of velocities \n",
    "bins = 12\n",
    "data_1['std_velocity'].hist(bins=bins, color='c', alpha=.8, label='seaons 1')\n",
    "data_2['std_velocity'].hist(bins=bins, color='r', alpha=.5, label='season 2')\n",
    "plt.legend(prop={'size': 12})\n",
    "avg_velo_1 = round(np.average(data_1['std_velocity'].values), 2)\n",
    "avg_velo_2 = round(np.average(data_2['std_velocity'].values), 2)\n",
    "plt.title('average of the standard deviation of the velocities in each run \\n season 1: {} [m/s] \\n season 2: {} [m/s]'\n",
    "          .format(avg_velo_1, avg_velo_2))\n",
    "plt.show()\n",
    "# season 2 much more runs at a consistent speed than season 1"
   ]
  },
  {
   "cell_type": "code",
   "execution_count": null,
   "metadata": {},
   "outputs": [],
   "source": [
    "\"\"\"\n",
    "The training for second marathon started right after first marathon was finished.\n",
    "I incorporated a lot of 'the same' runs (moderate pace, same route/distance), which shows in the above histograms.\n",
    "Overall, my average speed did not significantly change in the second season. \n",
    "The time for finishing both marathons was also roughly the same with no notable difference.\n",
    "\"\"\""
   ]
  }
 ],
 "metadata": {
  "colab": {
   "authorship_tag": "ABX9TyO5aKHSBaR+mnFZqTJcUCZ6",
   "collapsed_sections": [],
   "name": "Strava_analyzer_v03.ipynb",
   "provenance": [
    {
     "file_id": "16pJYI7jyAyY2C7LExri4JsUGiZ5TZmf3",
     "timestamp": 1582224623445
    },
    {
     "file_id": "13ZH4--6w7rxKDV-qu0Ex8_vFhJPMpUFB",
     "timestamp": 1581982370623
    },
    {
     "file_id": "1uUMtlPfdc7aLqqYaRtNe40uvQoVRkIfh",
     "timestamp": 1581952184149
    }
   ]
  },
  "kernelspec": {
   "display_name": "Python 3",
   "language": "python",
   "name": "python3"
  },
  "language_info": {
   "codemirror_mode": {
    "name": "ipython",
    "version": 3
   },
   "file_extension": ".py",
   "mimetype": "text/x-python",
   "name": "python",
   "nbconvert_exporter": "python",
   "pygments_lexer": "ipython3",
   "version": "3.7.6"
  }
 },
 "nbformat": 4,
 "nbformat_minor": 1
}
