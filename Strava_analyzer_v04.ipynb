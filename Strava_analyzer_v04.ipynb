{
 "cells": [
  {
   "cell_type": "code",
   "execution_count": null,
   "metadata": {
    "id": "dqNZAk_jdSx9",
    "colab_type": "code",
    "outputId": "76a001eb-4e9e-41b3-c668-3ed62a87ac2d",
    "executionInfo": {
     "status": "ok",
     "timestamp": 1.582224718485E12,
     "user_tz": 300.0,
     "elapsed": 22616.0,
     "user": {
      "displayName": "Alexander Stoffers",
      "photoUrl": "",
      "userId": "15553820626396450216"
     }
    },
    "colab": {
     "base_uri": "https://localhost:8080/",
     "height": 125.0
    }
   },
   "outputs": [],
   "source": [
    ""
   ]
  },
  {
   "cell_type": "code",
   "execution_count": null,
   "metadata": {
    "id": "AhoTa6E_RHGB",
    "colab_type": "code",
    "colab": {}
   },
   "outputs": [
    {
     "ename": "ModuleNotFoundError",
     "evalue": "No module named 'matplotlib'",
     "traceback": [
      "\u001b[0;31m---------------------------------------------------------------------------\u001b[0m",
      "\u001b[0;31mModuleNotFoundError\u001b[0m                       Traceback (most recent call last)",
      "\u001b[0;32m<ipython-input-14-6ba1de9ce3db>\u001b[0m in \u001b[0;36m<module>\u001b[0;34m()\u001b[0m\n\u001b[1;32m      3\u001b[0m \u001b[0;32mimport\u001b[0m \u001b[0mpandas\u001b[0m \u001b[0;32mas\u001b[0m \u001b[0mpd\u001b[0m\u001b[0;34m\u001b[0m\u001b[0;34m\u001b[0m\u001b[0m\n\u001b[1;32m      4\u001b[0m \u001b[0;32mimport\u001b[0m \u001b[0mnumpy\u001b[0m \u001b[0;32mas\u001b[0m \u001b[0mnp\u001b[0m\u001b[0;34m\u001b[0m\u001b[0;34m\u001b[0m\u001b[0m\n\u001b[0;32m----> 5\u001b[0;31m \u001b[0;32mimport\u001b[0m \u001b[0mmatplotlib\u001b[0m\u001b[0;34m.\u001b[0m\u001b[0mpyplot\u001b[0m \u001b[0;32mas\u001b[0m \u001b[0mplt\u001b[0m\u001b[0;34m\u001b[0m\u001b[0;34m\u001b[0m\u001b[0m\n\u001b[0m\u001b[1;32m      6\u001b[0m \u001b[0;32mimport\u001b[0m \u001b[0mcopy\u001b[0m \u001b[0;32mas\u001b[0m \u001b[0mcopy\u001b[0m\u001b[0;34m\u001b[0m\u001b[0;34m\u001b[0m\u001b[0m\n\u001b[1;32m      7\u001b[0m \u001b[0;32mimport\u001b[0m \u001b[0mjson\u001b[0m\u001b[0;34m\u001b[0m\u001b[0;34m\u001b[0m\u001b[0m\n",
      "\u001b[0;31mModuleNotFoundError\u001b[0m: No module named 'matplotlib'"
     ],
     "output_type": "error"
    }
   ],
   "source": [
    "# import modules and packages\n",
    "\n",
    "import pandas as pd\n",
    "import numpy as np\n",
    "import matplotlib.pyplot as plt\n",
    "import copy as copy\n",
    "import json\n",
    "import time\n",
    "import os\n",
    "from stravalib.client import Client"
   ]
  },
  {
   "cell_type": "code",
   "execution_count": 4,
   "metadata": {
    "id": "YskGBiTjNad4",
    "colab_type": "code",
    "outputId": "3eec8ec7-6534-42ba-a9f0-0b0c39d94ea7",
    "executionInfo": {
     "status": "ok",
     "timestamp": 1.582224726344E12,
     "user_tz": 300.0,
     "elapsed": 554.0,
     "user": {
      "displayName": "Alexander Stoffers",
      "photoUrl": "",
      "userId": "15553820626396450216"
     }
    },
    "colab": {
     "base_uri": "https://localhost:8080/",
     "height": 54.0
    }
   },
   "outputs": [
    {
     "name": "stdout",
     "output_type": "stream",
     "text": [
      "https://www.strava.com/oauth/authorize?client_id=43541&redirect_uri=http%3A%2F%2Flocalhost%2F&approval_prompt=auto&response_type=code&scope=read%2Cactivity%3Aread\n"
     ]
    }
   ],
   "source": [
    "# setup stravalib client authorization to get data\n",
    "client = Client()\n",
    "client_id = 43541  # personal client ID\n",
    "authorize_url = client.authorization_url(client_id=client_id, redirect_uri='http://localhost/')\n",
    "print(authorize_url)  # past url and copy redirected one; read out the code"
   ]
  },
  {
   "cell_type": "code",
   "execution_count": 0,
   "metadata": {
    "id": "J8xw3xPIOBxo",
    "colab_type": "code",
    "colab": {}
   },
   "outputs": [],
   "source": [
    "code = '799b135115b41d47387d51fdc226071a7371dfee'  # read out from redirected url\n",
    "# get personal client_secret from login page\n",
    "client_secret = 'd2331363dfeb23b176d6d6c2114bff933e3a3072'\n",
    "access_token = client.exchange_code_for_token(client_id=client_id,\n",
    "                                              client_secret=client_secret,\n",
    "                                              code=code)"
   ]
  },
  {
   "cell_type": "code",
   "execution_count": 0,
   "metadata": {
    "id": "Mz_WpBkmOtOf",
    "colab_type": "code",
    "colab": {}
   },
   "outputs": [],
   "source": [
    "# get activities\n",
    "limit = 400  # number of activities to be downloaded\n",
    "activities = client.get_activities(limit=limit)"
   ]
  },
  {
   "cell_type": "code",
   "execution_count": 8,
   "metadata": {
    "id": "KAT65nuPP_S4",
    "colab_type": "code",
    "outputId": "bc4c16a4-0d63-44e8-fe17-0d4c25a14fe6",
    "executionInfo": {
     "status": "ok",
     "timestamp": 1.582224787128E12,
     "user_tz": 300.0,
     "elapsed": 15343.0,
     "user": {
      "displayName": "Alexander Stoffers",
      "photoUrl": "",
      "userId": "15553820626396450216"
     }
    },
    "colab": {
     "base_uri": "https://localhost:8080/",
     "height": 757.0
    }
   },
   "outputs": [
    {
     "name": "stdout",
     "output_type": "stream",
     "text": [
      "3115124233.json\n",
      "3112130109.json\n",
      "2957502313.json\n",
      "2930851288.json\n",
      "2894167694.json\n",
      "2700613261.json\n",
      "1089660144.json\n",
      "777030910.json\n",
      "758256128.json\n",
      "750734870.json\n",
      "746700414.json\n",
      "730061691.json\n",
      "730061271.json\n",
      "726093685.json\n",
      "725627325.json\n",
      "721043234.json\n",
      "718802288.json\n",
      "717660537.json\n",
      "710459019.json\n",
      "702345945.json\n",
      "699747955.json\n",
      "697714937.json\n",
      "697074320.json\n",
      "697074294.json\n",
      "692869112.json\n",
      "690387838.json\n",
      "683851462.json\n",
      "678948594.json\n",
      "677086438.json\n",
      "677087004.json\n",
      "677086108.json\n",
      "672419711.json\n",
      "669675724.json\n",
      "668831906.json\n",
      "666545006.json\n",
      "666436256.json\n",
      "665558194.json\n",
      "664115951.json\n",
      "663330000.json\n",
      "663336199.json\n",
      "661626898.json\n",
      "659754612.json\n"
     ]
    }
   ],
   "source": [
    "# get list of already saved files\n",
    "path = '/content/drive/My Drive/Strava/Data/'\n",
    "files = list(os.listdir(path))\n",
    "\n",
    "for activity in activities:\n",
    "  # check if activity data is already stored\n",
    "  filename = str(activity.id) + '.json'\n",
    "\n",
    "  if filename not in files:\n",
    "    print(filename)\n",
    "    # get activity meta data\n",
    "    infos = activity.to_dict()\n",
    "    infos.pop('map')\n",
    "\n",
    "    # get activity data for times and distances\n",
    "    stream_time = client.get_activity_streams(activity_id=activity.id, types='Run', series_type='time')\n",
    "    stream_distance = client.get_activity_streams(activity_id=activity.id, types='Run', series_type='distance')\n",
    "    \n",
    "    # save data if activity id has any data for times and distances\n",
    "    if stream_time and stream_distance:\n",
    "      times = stream_time['time'].data\n",
    "      distances = stream_distance['distance'].data\n",
    "      dict_ = {'times':times, 'distances':distances, 'infos':infos}\n",
    "\n",
    "      # save data\n",
    "      with open(filename + '.json', 'w') as fp:\n",
    "        json.dump(dict_, fp)"
   ]
  },
  {
   "cell_type": "code",
   "execution_count": 0,
   "metadata": {
    "id": "c5YwqKsIRshl",
    "colab_type": "code",
    "colab": {}
   },
   "outputs": [],
   "source": [
    ""
   ]
  },
  {
   "cell_type": "code",
   "execution_count": 0,
   "metadata": {
    "id": "T7GrCogw8iQc",
    "colab_type": "code",
    "colab": {}
   },
   "outputs": [],
   "source": [
    "# read json files into dictionary\n",
    "\n",
    "# get file names in path\n",
    "files = list(os.listdir(path))\n",
    "\n",
    "data = {}  # initialize empty dictionary to be filled with data from json files\n",
    "for file in files:\n",
    "  activity_id = int(file.split('.')[0])\n",
    "  with open(path + file, 'r') as fp:\n",
    "    data[activity_id] = json.load(fp)"
   ]
  },
  {
   "cell_type": "code",
   "execution_count": 12,
   "metadata": {
    "id": "qMrvSc0stbw1",
    "colab_type": "code",
    "colab": {
     "base_uri": "https://localhost:8080/",
     "height": 231.0
    },
    "outputId": "d450eb46-2c7d-4332-c994-3ba39df79217",
    "executionInfo": {
     "status": "ok",
     "timestamp": 1.582228901334E12,
     "user_tz": 300.0,
     "elapsed": 5776.0,
     "user": {
      "displayName": "Alexander Stoffers",
      "photoUrl": "",
      "userId": "15553820626396450216"
     }
    }
   },
   "outputs": [
    {
     "name": "stdout",
     "output_type": "stream",
     "text": [
      "Collecting tabula\n",
      "  Downloading https://files.pythonhosted.org/packages/eb/bf/b2084620900655a8c080af9873cc654a8a2b0d7a5a111ca4ba947cd9717d/tabula-1.0.5.tar.gz\n",
      "Requirement already satisfied: setuptools in /usr/local/lib/python3.6/dist-packages (from tabula) (45.1.0)\n",
      "Requirement already satisfied: numpy in /usr/local/lib/python3.6/dist-packages (from tabula) (1.17.5)\n",
      "Building wheels for collected packages: tabula\n",
      "  Building wheel for tabula (setup.py) ... \u001b[?25l\u001b[?25hdone\n",
      "  Created wheel for tabula: filename=tabula-1.0.5-cp36-none-any.whl size=10586 sha256=4390ebca46218287609d4457319315120502c385309554007e606cba41b4f9b3\n",
      "  Stored in directory: /root/.cache/pip/wheels/47/2c/e2/33c0445cb41b20cf2dc01d31664d62ca6aae7e0bf85c0e6a28\n",
      "Successfully built tabula\n",
      "Installing collected packages: tabula\n",
      "Successfully installed tabula-1.0.5\n"
     ]
    }
   ],
   "source": [
    "\n",
    "!pip install tabula"
   ]
  },
  {
   "cell_type": "code",
   "execution_count": 0,
   "metadata": {
    "id": "XPX6atvnsfFA",
    "colab_type": "code",
    "colab": {}
   },
   "outputs": [],
   "source": [
    "path = '/content/drive/My Drive/Strava/Data/'\n",
    "files = list(os.listdir(path))"
   ]
  },
  {
   "cell_type": "code",
   "execution_count": 10,
   "metadata": {
    "id": "EFdiVd047w75",
    "colab_type": "code",
    "outputId": "fc74b8da-e2a8-4596-c8c6-76f1ec934c64",
    "executionInfo": {
     "status": "ok",
     "timestamp": 1.582224796388E12,
     "user_tz": 300.0,
     "elapsed": 406.0,
     "user": {
      "displayName": "Alexander Stoffers",
      "photoUrl": "",
      "userId": "15553820626396450216"
     }
    },
    "colab": {
     "base_uri": "https://localhost:8080/",
     "height": 34.0
    }
   },
   "outputs": [
    {
     "data": {
      "text/plain": [
       "272"
      ]
     },
     "execution_count": 10,
     "metadata": {
      "tags": []
     },
     "output_type": "execute_result"
    }
   ],
   "source": [
    "len(files)"
   ]
  }
 ],
 "metadata": {
  "colab": {
   "name": "Strava_analyzer_v03.ipynb",
   "provenance": [
    {
     "file_id": "16pJYI7jyAyY2C7LExri4JsUGiZ5TZmf3",
     "timestamp": 1.582224623445E12
    },
    {
     "file_id": "13ZH4--6w7rxKDV-qu0Ex8_vFhJPMpUFB",
     "timestamp": 1.581982370623E12
    },
    {
     "file_id": "1uUMtlPfdc7aLqqYaRtNe40uvQoVRkIfh",
     "timestamp": 1.581952184149E12
    }
   ],
   "collapsed_sections": [],
   "authorship_tag": "ABX9TyO5aKHSBaR+mnFZqTJcUCZ6"
  },
  "kernelspec": {
   "name": "python3",
   "display_name": "Python 3"
  }
 },
 "nbformat": 4,
 "nbformat_minor": 0
}
